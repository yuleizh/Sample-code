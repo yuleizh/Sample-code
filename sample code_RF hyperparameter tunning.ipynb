{
 "cells": [
  {
   "cell_type": "code",
   "execution_count": null,
   "metadata": {},
   "outputs": [],
   "source": [
    "## Normalized feature\n",
    "features=pd.concat([BIall_v2,clinical],axis=0,sort=False).reset_index().iloc[:,1:].fillna(0)\n",
    "\n",
    "from sklearn.preprocessing import StandardScaler\n",
    "from sklearn import preprocessing\n",
    "min_max_scaler = preprocessing.MinMaxScaler()\n",
    "features_norm = min_max_scaler.fit_transform(features)\n",
    "\n",
    "fst_BI1=pd.DataFrame(features_norm).iloc[:-(123),:]\n",
    "fst_cli1=pd.DataFrame(features_norm).iloc[-(123):,:].reset_index().iloc[:,1:]"
   ]
  },
  {
   "cell_type": "code",
   "execution_count": null,
   "metadata": {},
   "outputs": [],
   "source": [
    "import numpy as np\n",
    "import pandas as pd\n",
    "\n",
    "from sklearn.model_selection import train_test_split\n",
    "from sklearn.metrics import accuracy_score\n",
    "from sklearn.metrics import balanced_accuracy_score\n",
    "\n",
    "from sklearn.discriminant_analysis import LinearDiscriminantAnalysis\n",
    "from sklearn.discriminant_analysis import QuadraticDiscriminantAnalysis\n",
    "from sklearn.linear_model import LogisticRegression\n",
    "\n",
    "# Load data and split in train and test sets\n",
    "X_train1, X_test1, y_train1, y_test1 = train_test_split(fst_BI2, Type_v2,test_size=0.2,random_state=42,stratify=Type_v2)\n",
    "#X_train2, X_test2, y_train2, y_test2 = train_test_split(fst_BI2, Type,test_size=0.2,random_state=42,stratify=Type)"
   ]
  },
  {
   "cell_type": "markdown",
   "metadata": {},
   "source": [
    "## Linear model"
   ]
  },
  {
   "cell_type": "code",
   "execution_count": null,
   "metadata": {},
   "outputs": [],
   "source": [
    "from sklearn.model_selection import cross_val_score\n",
    "lda_model = LinearDiscriminantAnalysis()\n",
    "lda_preds = lda_model.fit(X_train, y_train).predict(X_test)\n",
    "\n",
    "lda_acc = balanced_accuracy_score(y_test, lda_preds)\n",
    "lda_preds_train=lda_model.fit(X_train, y_train).predict(X_train)\n",
    "scores = cross_val_score(lda_model, X_train, y_train, cv=5)\n",
    "lda_acc_train = balanced_accuracy_score(y_train, lda_preds_train)\n",
    "print('LDA Test Accuracy: {}'.format(lda_acc))\n",
    "print('LDA Training Accuracy: {}'.format(lda_acc_train))\n",
    "\n",
    "\n",
    "from scipy import stats\n",
    "rho_cli_lda, pval_cli_lda = stats.spearmanr(cli_tf,PSR.iloc[:,1])\n",
    "print(rho_cli_lda, pval_cli_lda)"
   ]
  },
  {
   "cell_type": "code",
   "execution_count": null,
   "metadata": {},
   "outputs": [],
   "source": [
    "qda_model = QuadraticDiscriminantAnalysis()\n",
    "qda_preds = qda_model.fit(X_train, y_train).predict(X_test)\n",
    "qda_acc = balanced_accuracy_score(y_test,qda_preds)\n",
    "qda_preds_train=qda_model.fit(X_train, y_train).predict(X_train)\n",
    "qda_acc_train = balanced_accuracy_score(y_train, qda_preds_train)\n",
    "print('QDA Accuracy: {}'.format(qda_acc))\n",
    "print('QDA Training Accuracy: {}'.format(qda_acc_train))\n",
    "clinical_qda=qda_model.fit(X_train, y_train).predict(fst_cli)"
   ]
  },
  {
   "cell_type": "code",
   "execution_count": null,
   "metadata": {},
   "outputs": [],
   "source": [
    "rda_model = LinearDiscriminantAnalysis(solver='lsqr', shrinkage='auto')\n",
    "rda_preds = rda_model.fit(X_train, y_train).predict(X_test)\n",
    "rda_acc = balanced_accuracy_score(y_test, rda_preds)\n",
    "rda_preds_train=rda_model.fit(X_train, y_train).predict(X_train)\n",
    "rda_acc_train = balanced_accuracy_score(y_train, rda_preds_train)\n",
    "print('RDA Accuracy: {}'.format(rda_acc))\n",
    "print('RDA Training Accuracy: {}'.format(rda_acc_train))\n",
    "clinical_rda=rda_model.fit(X_train, y_train).predict(fst_cli)"
   ]
  },
  {
   "cell_type": "code",
   "execution_count": null,
   "metadata": {},
   "outputs": [],
   "source": [
    "logreg_model = LogisticRegression()\n",
    "logreg_preds = logreg_model.fit(X_train, y_train).predict(X_test)\n",
    "logreg_acc = balanced_accuracy_score(y_test, logreg_preds)\n",
    "logreg_preds_train=logreg_model.fit(X_train, y_train).predict(X_train)\n",
    "logreg_acc_train = balanced_accuracy_score(y_train, logreg_preds_train)\n",
    "print('Logistic Regression Accuracy: {}'.format(logreg_acc))\n",
    "print('Logistic Regression Training Accuracy: {}'.format(logreg_acc_train))\n",
    "clinical_logreg=logreg_model.fit(X_train, y_train).predict(fst_cli)"
   ]
  },
  {
   "cell_type": "code",
   "execution_count": null,
   "metadata": {},
   "outputs": [],
   "source": [
    "# evaluate an lasso regression model on the dataset\n",
    "from numpy import arange\n",
    "from pandas import read_csv\n",
    "from sklearn.model_selection import GridSearchCV\n",
    "from sklearn.model_selection import RepeatedKFold\n",
    "from sklearn.linear_model import Lasso\n",
    "\n",
    "# define model\n",
    "\n",
    "model = Lasso()\n",
    "# define model evaluation method\n",
    "cv = RepeatedKFold(n_splits=3, n_repeats=3, random_state=1)\n",
    "# define grid\n",
    "grid = dict()\n",
    "grid['alpha'] = np.arange(0, 1, 0.01)\n",
    "# define search\n",
    "search = GridSearchCV(model, grid, scoring='neg_mean_absolute_error', cv=cv, n_jobs=-1)\n",
    "# perform the search\n",
    "results = search.fit(X_train, y_train)"
   ]
  },
  {
   "cell_type": "markdown",
   "metadata": {},
   "source": [
    "## Tunning hyper parameters"
   ]
  },
  {
   "cell_type": "code",
   "execution_count": null,
   "metadata": {},
   "outputs": [],
   "source": [
    "## Tunning parameters for RF\n",
    "n_estimators=[2,3,4,5,6,7,8,9,10,11,12,13,14,15]\n",
    "max_depth=[10,12,14,15,16,18,20]\n",
    "min_samples_split=[10,20,30,40,50,60,70,80,90,100]\n",
    "result_para=[]\n",
    "result_perf=[]\n",
    "for i1 in range(0,len(n_estimators)):\n",
    "    print(i1)\n",
    "    for i2 in range(0,len(max_depth)):\n",
    "        for i3 in range(0,len(min_samples_split)):\n",
    "            regc = RandomForestClassifier(n_estimators=n_estimators[i1],max_depth=max_depth[i2], min_samples_split=min_samples_split[i3],min_samples_leaf=1,random_state=0)\n",
    "\n",
    "            regc.fit(X_train2, y_train2)\n",
    "            y_pred_test=regc.predict(X_test2)\n",
    "            y_pred_train=regc.predict(X_train2)\n",
    "\n",
    "            y_pred_all_clinical=regc.predict(fst_cli3)\n",
    "            y_pred_train_clinical=regc.predict(fst_cli3.iloc[df_clinical_train['num']])\n",
    "            y_pred_test_clinical=regc.predict(fst_cli3.iloc[df_clinical_test['num']])\n",
    "\n",
    "\n",
    "            rf_acc_test = balanced_accuracy_score(y_test2, y_pred_test)\n",
    "            rf_acc_train = balanced_accuracy_score(y_train2, y_pred_train)\n",
    "\n",
    "            rf_acc_all_clinical=balanced_accuracy_score((PSRv2>0.27)*1, y_pred_all_clinical)\n",
    "            rf_acc_train_clinical=balanced_accuracy_score(df_clinical_train['label'], y_pred_train_clinical)\n",
    "            rf_acc_test_clinical=balanced_accuracy_score(df_clinical_test['label'], y_pred_test_clinical)\n",
    "\n",
    "            cli_rf_class_all=regc.predict(fst_cli3)\n",
    "            cli_rf_class_train=regc.predict(fst_cli3.iloc[df_clinical_train['num']])\n",
    "            cli_rf_class_test=regc.predict(fst_cli3.iloc[df_clinical_test['num']])\n",
    "\n",
    "            logit_roc_auc3 = roc_auc_score(cli_rf_class_all,PSRv2)\n",
    "            logit_roc_auc1 = roc_auc_score(cli_rf_class_train,PSRv2[df_clinical_train['num']])\n",
    "            logit_roc_auc2 = roc_auc_score(cli_rf_class_test,PSRv2[df_clinical_test['num']])\n",
    "            result_para.append([n_estimators[i1],max_depth[i2],min_samples_split[i3]])\n",
    "            result_perf.append([rf_acc_test,rf_acc_train,rf_acc_all_clinical,logit_roc_auc3,logit_roc_auc1,logit_roc_auc2])\n",
    "            \n",
    "            "
   ]
  },
  {
   "cell_type": "markdown",
   "metadata": {},
   "source": [
    "## feature importance"
   ]
  },
  {
   "cell_type": "code",
   "execution_count": null,
   "metadata": {},
   "outputs": [],
   "source": [
    "# random forest for feature importance on a classification problem\n",
    "from sklearn.datasets import make_classification\n",
    "from sklearn.ensemble import RandomForestClassifier\n",
    "from matplotlib import pyplot\n",
    "# define the model\n",
    "model = RandomForestClassifier(n_estimators=5,max_depth=15, min_samples_split=30,min_samples_leaf=1,random_state=0)\n",
    "# fit the model\n",
    "model.fit(fst_BI1, Type_v2)\n",
    "# get importance\n",
    "importance = model.feature_importances_\n",
    "# summarize feature importance\n",
    "for i,v in enumerate(importance):\n",
    "    print('Feature: %0d, Score: %.5f' % (i,v))\n",
    "# plot feature importance\n",
    "pyplot.bar([x for x in range(len(importance))], importance)\n",
    "pyplot.show()"
   ]
  },
  {
   "cell_type": "markdown",
   "metadata": {},
   "source": [
    "## RidgeClassifier"
   ]
  },
  {
   "cell_type": "code",
   "execution_count": null,
   "metadata": {},
   "outputs": [],
   "source": [
    "from sklearn.linear_model import RidgeClassifier\n",
    "ridge_clf = RidgeClassifier().fit(X_train, y_train)\n",
    "ridge_clf.score(X_train, y_train)\n",
    "ridg_acc_train=balanced_accuracy_score(ridge_clf.predict(X_train), y_train)\n",
    "ridg_acc_test=balanced_accuracy_score(ridge_clf.predict(X_test), y_test)\n",
    "clinical_logreg=ridge_clf.predict(fst_cli)"
   ]
  },
  {
   "cell_type": "markdown",
   "metadata": {},
   "source": [
    "## SVM"
   ]
  },
  {
   "cell_type": "code",
   "execution_count": null,
   "metadata": {},
   "outputs": [],
   "source": [
    "from sklearn import svm\n",
    "svm_linear_clf = svm.SVC(kernel='linear',C=1000)\n",
    "svm_linear_clf.fit(X_train, y_train)\n",
    "svm_linear_acc_train=balanced_accuracy_score(svm_linear_clf.predict(X_train), y_train)\n",
    "svm_linear_acc_test=balanced_accuracy_score(svm_linear_clf.predict(X_test), y_test)\n",
    "print(svm_linear_acc_train,svm_linear_acc_test)\n",
    "clinical_svmlinear=svm_linear_clf.predict(fst_cli)"
   ]
  },
  {
   "cell_type": "code",
   "execution_count": null,
   "metadata": {},
   "outputs": [],
   "source": []
  }
 ],
 "metadata": {
  "kernelspec": {
   "display_name": "Python 3",
   "language": "python",
   "name": "python3"
  },
  "language_info": {
   "codemirror_mode": {
    "name": "ipython",
    "version": 3
   },
   "file_extension": ".py",
   "mimetype": "text/x-python",
   "name": "python",
   "nbconvert_exporter": "python",
   "pygments_lexer": "ipython3",
   "version": "3.7.4"
  }
 },
 "nbformat": 4,
 "nbformat_minor": 2
}
